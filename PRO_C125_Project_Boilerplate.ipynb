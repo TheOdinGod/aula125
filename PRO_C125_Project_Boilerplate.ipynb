{
  "nbformat": 4,
  "nbformat_minor": 0,
  "metadata": {
    "colab": {
      "provenance": []
    },
    "kernelspec": {
      "name": "python3",
      "display_name": "Python 3"
    },
    "language_info": {
      "name": "python"
    }
  },
  "cells": [
    {
      "cell_type": "markdown",
      "source": [
        "Clone o conjunto de dados necessário que foi fornecido "
      ],
      "metadata": {
        "id": "bde4NTpm1yeU"
      }
    },
    {
      "cell_type": "code",
      "execution_count": null,
      "metadata": {
        "colab": {
          "base_uri": "https://localhost:8080/"
        },
        "id": "gtUMfFE5TEQH",
        "outputId": "c0b3d1c4-654e-49ec-f6d6-46b70168f097"
      },
      "outputs": [
        {
          "output_type": "stream",
          "name": "stdout",
          "text": [
            "Cloning into 'Pro-M3-Hurricane-Damage-Dataset'...\n",
            "remote: Enumerating objects: 800, done.\u001b[K\n",
            "remote: Total 800 (delta 0), reused 0 (delta 0), pack-reused 800\u001b[K\n",
            "Receiving objects: 100% (800/800), 2.07 MiB | 11.46 MiB/s, done.\n"
          ]
        }
      ],
      "source": [
        "#Clonando o conjunto de dados necessário\n",
        "!git clone https://github.com/ByjusBrazil/PRO_1-1_C125_HurricaneDamageDataset"
      ]
    },
    {
      "cell_type": "markdown",
      "source": [
        "Exibir a primeira imagem do conjunto de dados de treinamento"
      ],
      "metadata": {
        "id": "k5HIz63Y2nUk"
      }
    },
    {
      "cell_type": "code",
      "source": [
        "#Mostrar imagem\n",
        "from matplotlib import pyplot\n",
        "from matplotlib.image import imread\n",
        "\n",
        "training_damaged_image = \"/content/PRO_1-1_C125_HurricaneDamageDataset/train/damage/image (1).jpeg\"\n",
        "\n",
        "# carregar pixels de imagem\n",
        "image = imread(training_damaged_image)\n",
        "\n",
        "pyplot.title(\"danificado: Imagem 1\")\n",
        "\n",
        "# plotar dados brutos de pixel\n",
        "pyplot.imshow(image)\n",
        "\n",
        "# mostrar a figura\n",
        "pyplot.show()"
      ],
      "metadata": {
        "id": "6ijFdUrDUVuq"
      },
      "execution_count": null,
      "outputs": []
    },
    {
      "cell_type": "markdown",
      "source": [
        "Realize o aumento no conjunto de dados de treinamento"
      ],
      "metadata": {
        "id": "esDB_i4S3Ju6"
      }
    },
    {
      "cell_type": "code",
      "source": [
        "#Zoom e inversão horizontal (ou qualquer técnica de aumento de sua escolha)"
      ],
      "metadata": {
        "id": "1MJBT44rUgGO"
      },
      "execution_count": null,
      "outputs": []
    },
    {
      "cell_type": "markdown",
      "source": [
        "Visualize as imagens aumentadas em quatro subimagens"
      ],
      "metadata": {
        "id": "KwLb6Adv3RA-"
      }
    },
    {
      "cell_type": "code",
      "source": [
        "#Visualize a imagem pré-processada"
      ],
      "metadata": {
        "id": "2rG92dF1U9HE"
      },
      "execution_count": null,
      "outputs": []
    }
  ]
}